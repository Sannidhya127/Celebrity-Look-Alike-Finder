{
 "cells": [
  {
   "cell_type": "code",
   "execution_count": null,
   "metadata": {},
   "outputs": [],
   "source": [
    "import os\n",
    "import shutil\n",
    "\n",
    "data_dir = 'Celebrity Faces Dataset'\n",
    "\n",
    "for directory in os.listdir(data_dir):\n",
    "    first_file = os.listdir(os.path.join(data_dir, directory))[1]\n",
    "    shutil.copyfile(os.path.join(data_dir, directory, first_file), os.path.join(\"Samples\", f\"{directory}.jpg\"))"
   ]
  },
  {
   "cell_type": "code",
   "execution_count": null,
   "metadata": {},
   "outputs": [],
   "source": [
    "from deepface import DeepFace\n",
    "\n",
    "smallest_distance = None\n",
    "\n",
    "for file in os.listdir(\"Samples\"):\n",
    "    if file.endswith('.jpg'):\n",
    "        result = DeepFace.verify('me1.jpg', f'Samples/{file}')\n",
    "        if result['verified']:\n",
    "            print(\"This person looks exactly like\", file.split('.')[0])\n",
    "            break\n",
    "        if smallest_distance is None:\n",
    "            smallest_distance = (file.split('.')[0], result['distance'])\n",
    "        else:\n",
    "            smallest_distance = (file.split('.')[0], result['distance']) if result['distance'] < smallest_distance[1] else smallest_distance\n",
    "else:\n",
    "    print(f\"No exact match found. Closest match is {smallest_distance[0]}\")"
   ]
  }
 ],
 "metadata": {
  "kernelspec": {
   "display_name": "Python 3",
   "language": "python",
   "name": "python3"
  },
  "language_info": {
   "codemirror_mode": {
    "name": "ipython",
    "version": 3
   },
   "file_extension": ".py",
   "mimetype": "text/x-python",
   "name": "python",
   "nbconvert_exporter": "python",
   "pygments_lexer": "ipython3",
   "version": "3.11.2"
  },
  "orig_nbformat": 4
 },
 "nbformat": 4,
 "nbformat_minor": 2
}
